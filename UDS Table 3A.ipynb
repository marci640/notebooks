{
 "cells": [
  {
   "cell_type": "code",
   "execution_count": 1,
   "metadata": {},
   "outputs": [],
   "source": [
    "import pyspark\n",
    "from pyspark.sql import SparkSession, DataFrame\n",
    "from pyspark.sql.functions import when, lit, count, datediff, floor, concat\n",
    "import json\n",
    "from pyspark.sql.types import IntegerType, StringType\n",
    "from datetime import datetime"
   ]
  },
  {
   "cell_type": "markdown",
   "metadata": {},
   "source": [
    "#### Create Spark Session"
   ]
  },
  {
   "cell_type": "code",
   "execution_count": 2,
   "metadata": {},
   "outputs": [],
   "source": [
    "spark = SparkSession.builder.appName('uds').getOrCreate()"
   ]
  },
  {
   "cell_type": "code",
   "execution_count": 3,
   "metadata": {},
   "outputs": [],
   "source": [
    "patients = spark.read.option(\"multiline\",\"true\").json(\"fhir/Patient\")"
   ]
  },
  {
   "cell_type": "code",
   "execution_count": 4,
   "metadata": {},
   "outputs": [],
   "source": [
    "df = patients.select('birthDate', 'gender', 'id')"
   ]
  },
  {
   "cell_type": "markdown",
   "metadata": {},
   "source": [
    "#### Age & gender"
   ]
  },
  {
   "cell_type": "code",
   "execution_count": 5,
   "metadata": {},
   "outputs": [],
   "source": [
    "jun_30 = datetime.strptime('2021-06-30', '%Y-%m-%d').date()\n",
    "# per UDS manual page 27: https://bphc.hrsa.gov/sites/default/files/bphc/datareporting/pdf/2021-uds-manual.pdf\n",
    "# Use the individual’s age on June 30, 2021. "
   ]
  },
  {
   "cell_type": "code",
   "execution_count": 6,
   "metadata": {},
   "outputs": [],
   "source": [
    "df_with_age = df.withColumn('age', floor((datediff(lit(jun_30), df.birthDate)) / 365) )"
   ]
  },
  {
   "cell_type": "markdown",
   "metadata": {},
   "source": [
    "#### Map age to ageGroup values for UDS Table 3"
   ]
  },
  {
   "cell_type": "code",
   "execution_count": 7,
   "metadata": {},
   "outputs": [],
   "source": [
    "df_mapped = df_with_age.withColumn(\"ageGroup\", \n",
    "                        when(df_with_age.age <= 1, \"Under age 1\")\n",
    "                       .when(df_with_age.age.between(25, 29), \"Ages 25-29\")\n",
    "                       .when(df_with_age.age.between(30, 34), \"Ages 30-34\")\n",
    "                       .when(df_with_age.age.between(35, 39), \"Ages 35-39\")\n",
    "                       .when(df_with_age.age.between(40, 44), \"Ages 40-44\")\n",
    "                       .when(df_with_age.age.between(45, 49), \"Ages 45-49\")\n",
    "                       .when(df_with_age.age.between(50, 54), \"Ages 50-54\")\n",
    "                       .when(df_with_age.age.between(55, 59), \"Ages 55-59\")\n",
    "                       .when(df_with_age.age.between(60, 64), \"Ages 60-64\")\n",
    "                       .when(df_with_age.age.between(65, 69), \"Ages 65-69\")\n",
    "                       .when(df_with_age.age.between(70, 74), \"Ages 70-74\")\n",
    "                       .when(df_with_age.age.between(75, 79), \"Ages 75-79\")\n",
    "                       .when(df_with_age.age.between(80, 84), \"Ages 80-84\")\n",
    "                       .when(df_with_age.age >= 85, \"Age 85 and over\")\n",
    "                       .otherwise(concat(lit('Age '), df_with_age.age.cast(IntegerType()).cast(StringType())))\n",
    "                        )"
   ]
  },
  {
   "cell_type": "markdown",
   "metadata": {},
   "source": [
    "#### Group by ageGroup"
   ]
  },
  {
   "cell_type": "code",
   "execution_count": 8,
   "metadata": {},
   "outputs": [],
   "source": [
    "df_grouped = (df_mapped\n",
    "    .groupby(df_mapped.ageGroup)\n",
    "    .pivot(\"gender\")\n",
    "    .agg(count(\"id\"))\n",
    "    ).sort('ageGroup').fillna(0).withColumnRenamed(\"ageGroup\", \"Age Groups\")"
   ]
  },
  {
   "cell_type": "markdown",
   "metadata": {},
   "source": [
    "#### Import and merge template"
   ]
  },
  {
   "cell_type": "code",
   "execution_count": 9,
   "metadata": {},
   "outputs": [],
   "source": [
    "template = spark.read.csv(\"uds/templates/template_3a.csv\", header='True', inferSchema='True')\n",
    "# source: https://bphc.hrsa.gov/sites/default/files/bphc/datareporting/reporting/2021-uds-tables.xlsx"
   ]
  },
  {
   "cell_type": "code",
   "execution_count": 10,
   "metadata": {},
   "outputs": [],
   "source": [
    "tbl_3a = template.join(df_grouped, on=['Age Groups'], how='left').sort('Line').fillna(0).select(\n",
    "    \"Line\",\"Age Groups\",\"male\", \"female\")"
   ]
  },
  {
   "cell_type": "code",
   "execution_count": 11,
   "metadata": {},
   "outputs": [
    {
     "name": "stdout",
     "output_type": "stream",
     "text": [
      "+----+----------------+----+------+\n",
      "|Line|Age Groups      |male|female|\n",
      "+----+----------------+----+------+\n",
      "|1   |Under Age 1     |0   |0     |\n",
      "|2   |Age 1           |0   |0     |\n",
      "|3   |Age 2           |0   |1     |\n",
      "|4   |Age 3           |0   |0     |\n",
      "|5   |Age 4           |0   |1     |\n",
      "|6   |Age 5           |1   |0     |\n",
      "|7   |Age 6           |1   |0     |\n",
      "|8   |Age 7           |0   |0     |\n",
      "|9   |Age 8           |1   |0     |\n",
      "|10  |Age 9           |0   |0     |\n",
      "|11  |Age 10          |0   |0     |\n",
      "|12  |Age 11          |0   |1     |\n",
      "|13  |Age 12          |1   |0     |\n",
      "|14  |Age 13          |0   |1     |\n",
      "|15  |Age 14          |2   |0     |\n",
      "|16  |Age 15          |0   |1     |\n",
      "|17  |Age 16          |1   |0     |\n",
      "|18  |Age 17          |1   |0     |\n",
      "|19  |Age 18          |2   |0     |\n",
      "|20  |Age 19          |4   |1     |\n",
      "|21  |Age 20          |0   |1     |\n",
      "|22  |Age 21          |0   |0     |\n",
      "|23  |Age 22          |0   |0     |\n",
      "|24  |Age 23          |0   |2     |\n",
      "|25  |Age 24          |1   |1     |\n",
      "|26  |Ages 25-29      |10  |4     |\n",
      "|27  |Ages 30-34      |6   |2     |\n",
      "|28  |Ages 35-39      |1   |1     |\n",
      "|29  |Ages 40-44      |2   |0     |\n",
      "|30  |Ages 45-49      |2   |1     |\n",
      "|31  |Ages 50-54      |2   |7     |\n",
      "|32  |Ages 55-59      |3   |4     |\n",
      "|33  |Ages 60-64      |3   |4     |\n",
      "|34  |Ages 65-69      |7   |2     |\n",
      "|35  |Ages 70-74      |2   |0     |\n",
      "|36  |Ages 75-79      |1   |3     |\n",
      "|37  |Ages 80-84      |2   |1     |\n",
      "|38  |Ages 85 and over|0   |0     |\n",
      "+----+----------------+----+------+\n",
      "\n"
     ]
    }
   ],
   "source": [
    "tbl_3a.show(40, False)"
   ]
  }
 ],
 "metadata": {
  "kernelspec": {
   "display_name": "Python 3",
   "language": "python",
   "name": "python3"
  },
  "language_info": {
   "codemirror_mode": {
    "name": "ipython",
    "version": 3
   },
   "file_extension": ".py",
   "mimetype": "text/x-python",
   "name": "python",
   "nbconvert_exporter": "python",
   "pygments_lexer": "ipython3",
   "version": "3.6.4"
  }
 },
 "nbformat": 4,
 "nbformat_minor": 2
}
